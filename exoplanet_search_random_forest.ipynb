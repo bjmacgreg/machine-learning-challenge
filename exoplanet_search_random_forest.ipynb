{
 "cells": [
  {
   "cell_type": "markdown",
   "metadata": {},
   "source": [
    "### Import some dependencies"
   ]
  },
  {
   "cell_type": "code",
   "execution_count": null,
   "metadata": {},
   "outputs": [],
   "source": [
    "import pandas as pd\n",
    "import numpy as np\n",
    "import os"
   ]
  },
  {
   "cell_type": "markdown",
   "metadata": {},
   "source": [
    "### Read in and clean up data"
   ]
  },
  {
   "cell_type": "code",
   "execution_count": null,
   "metadata": {},
   "outputs": [],
   "source": [
    "exoplanets = pd.read_csv(os.path.join('Resources', 'cumulative.csv'))\n",
    "pd.set_option('display.max_columns', None)\n",
    "\n",
    "exoplanets"
   ]
  },
  {
   "cell_type": "code",
   "execution_count": null,
   "metadata": {},
   "outputs": [],
   "source": [
    "#Remove rows (if any) where koi_pdisposition is not FALSE POSITIVE or CANDIDATE; koi_disposition has additional categories\n",
    "exoplanets.koi_pdisposition.unique()\n",
    "#None found in current file"
   ]
  },
  {
   "cell_type": "code",
   "execution_count": null,
   "metadata": {},
   "outputs": [],
   "source": [
    "#Make koi_pdisposition and koi_disposition numerical variables, see if they are the same (no, koi_disposition has more categories)\n",
    "exoplanets_pdisp_cat = pd.get_dummies(exoplanets, prefix=['koi_pdisposition'], columns=['koi_pdisposition'])"
   ]
  },
  {
   "cell_type": "code",
   "execution_count": null,
   "metadata": {},
   "outputs": [],
   "source": [
    "exoplanets_disp_cat = pd.get_dummies(exoplanets_pdisp_cat, prefix=['koi_disposition'], columns=['koi_disposition'])\n",
    "exoplanets_disp_cat.drop('koi_pdisposition_FALSE POSITIVE', axis=1, inplace=True)"
   ]
  },
  {
   "cell_type": "code",
   "execution_count": null,
   "metadata": {},
   "outputs": [],
   "source": [
    "#Drop error columns (although these could be useful in the real world), extra IDs, KOI score, \n",
    "#and extra evaluation columns\n",
    "exoplanets_basic = exoplanets_disp_cat.drop([\"rowid\", \"kepoi_name\", \"kepler_name\", \"koi_score\", \n",
    "                                             \"koi_period_err1\", \"koi_period_err2\", \"koi_time0bk_err1\", \n",
    "                                             \"koi_time0bk_err2\", \"koi_impact_err1\", \"koi_impact_err2\", \n",
    "                                             \"koi_duration_err1\", \"koi_duration_err2\", \"koi_depth_err1\", \n",
    "                                             \"koi_depth_err2\", \"koi_prad_err1\", \"koi_prad_err2\", \"koi_teq_err1\", \n",
    "                                             \"koi_teq_err2\", \"koi_insol_err1\", \"koi_insol_err2\", \"koi_tce_plnt_num\", \n",
    "                                             \"koi_tce_delivname\",\"koi_steff_err1\", \"koi_steff_err2\", \n",
    "                                             \"koi_slogg_err1\", \"koi_slogg_err2\", \"koi_srad_err1\", \"koi_srad_err2\", \n",
    "                                             \"koi_disposition_CANDIDATE\", \"koi_disposition_CONFIRMED\", \n",
    "                                             \"koi_disposition_FALSE POSITIVE\"], axis=1)\n",
    "exoplanets_basic.rename(columns={'koi_fpflag_nt': 'flag_not_transit_like', \n",
    "                   'koi_fpflag_ss': 'flag_stellar_eclipse', \n",
    "                   'koi_fpflag_co': 'flag_centroid_offset',\n",
    "                   'koi_fpflag_ec': 'flag_ephemeris match',                  \n",
    "                   'koi_period': 'orbital_period',                  \n",
    "                   'koi_time0bk': 'time_first_trans_detected',\n",
    "                   'koi_impact': 'star_planet_dist_at_conj',                   \n",
    "                   'koi_duration': 'trans_duration',                   \n",
    "                   'koi_depth': 'stellar_flux_loss_at_trans_min',\n",
    "                   'koi_prad': 'planet_radius',\n",
    "                   'koi_teq': 'approx_planet_temp',\n",
    "                   'koi_insol': 'insolation_flux',\n",
    "                   'koi_model_snr': 'trans_sig_to_noise',\n",
    "                   'koi_steff': 'stellar_eff_temp',\n",
    "                   'koi_slogg': 'stellar_surf_gravity',\n",
    "                   'koi_srad': 'stellar_photosph_rad',\n",
    "                   'ra': 'sky_location_right_asc',\n",
    "                   'dec': 'sky_location_declination',                   \n",
    "                   'koi_kepmag': 'stellar_magnitude'}, inplace=True)\n",
    "exoplanets_basic.dropna(axis=0)\n",
    "#No na found by this method..."
   ]
  },
  {
   "cell_type": "code",
   "execution_count": null,
   "metadata": {},
   "outputs": [],
   "source": [
    "np.any(np.isnan(exoplanets_basic))"
   ]
  },
  {
   "cell_type": "code",
   "execution_count": null,
   "metadata": {},
   "outputs": [],
   "source": [
    "np.all(np.isfinite(exoplanets_basic))"
   ]
  },
  {
   "cell_type": "code",
   "execution_count": null,
   "metadata": {},
   "outputs": [],
   "source": [
    "#https://stackoverflow.com/questions/31323499/sklearn-error-valueerror-input-contains-nan-infinity-or-a-value-too-large-for\n",
    "def clean_dataset(df):\n",
    "    assert isinstance(df, pd.DataFrame), \"df needs to be a pd.DataFrame\"\n",
    "    df.dropna(inplace=True)\n",
    "    indices_to_keep = ~df.isin([np.nan, np.inf, -np.inf]).any(1)\n",
    "    return df[indices_to_keep].astype(np.float64)\n",
    "clean_dataset(exoplanets_basic)\n",
    "exoplanets_basic"
   ]
  },
  {
   "cell_type": "code",
   "execution_count": null,
   "metadata": {},
   "outputs": [],
   "source": [
    "np.any(np.isnan(exoplanets_basic))"
   ]
  },
  {
   "cell_type": "code",
   "execution_count": null,
   "metadata": {},
   "outputs": [],
   "source": [
    "np.all(np.isfinite(exoplanets_basic))"
   ]
  },
  {
   "cell_type": "markdown",
   "metadata": {},
   "source": [
    "## First run: Decision Tree, random state=57"
   ]
  },
  {
   "cell_type": "code",
   "execution_count": null,
   "metadata": {},
   "outputs": [],
   "source": [
    "target = exoplanets_basic[\"koi_pdisposition_CANDIDATE\"]\n",
    "target_names = [\"False_positive\", \"Candidate\"]"
   ]
  },
  {
   "cell_type": "code",
   "execution_count": null,
   "metadata": {},
   "outputs": [],
   "source": [
    "data = exoplanets_basic.drop([\"koi_pdisposition_CANDIDATE\", \"kepid\"], axis=1)\n",
    "feature_names = data.columns"
   ]
  },
  {
   "cell_type": "code",
   "execution_count": null,
   "metadata": {},
   "outputs": [],
   "source": [
    "from sklearn import tree"
   ]
  },
  {
   "cell_type": "code",
   "execution_count": null,
   "metadata": {},
   "outputs": [],
   "source": [
    "from sklearn.model_selection import train_test_split\n",
    "X_train, X_test, y_train, y_test = train_test_split(data, target, random_state=57)"
   ]
  },
  {
   "cell_type": "code",
   "execution_count": null,
   "metadata": {},
   "outputs": [],
   "source": [
    "clf = tree.DecisionTreeClassifier()\n",
    "clf = clf.fit(X_train, y_train)\n",
    "clf.score(X_test, y_test)"
   ]
  },
  {
   "cell_type": "markdown",
   "metadata": {},
   "source": [
    "First run results: clf.score(X_test, y_test) 0.9843478260869565"
   ]
  },
  {
   "cell_type": "markdown",
   "metadata": {},
   "source": [
    "### Apparently quite accurate, but included \"flag\" columns, which are scores themselves"
   ]
  },
  {
   "cell_type": "markdown",
   "metadata": {},
   "source": [
    "## Second run: Decision Tree, random state=57, \"flag\" variables removed"
   ]
  },
  {
   "cell_type": "code",
   "execution_count": null,
   "metadata": {},
   "outputs": [],
   "source": [
    "data_deflag = exoplanets_basic.drop([\"kepid\", 'flag_not_transit_like','flag_centroid_offset',\n",
    "                                     'flag_stellar_eclipse','flag_ephemeris match' ], axis=1)\n",
    "data_deflag"
   ]
  },
  {
   "cell_type": "code",
   "execution_count": null,
   "metadata": {},
   "outputs": [],
   "source": [
    "data = data_deflag.drop([\"koi_pdisposition_CANDIDATE\"], axis=1)\n",
    "feature_names = data.columns\n",
    "target = data_deflag[\"koi_pdisposition_CANDIDATE\"]\n",
    "target_names = [\"False_positive\", \"Candidate\"]"
   ]
  },
  {
   "cell_type": "code",
   "execution_count": null,
   "metadata": {},
   "outputs": [],
   "source": [
    "X_train, X_test, y_train, y_test = train_test_split(data, target, random_state=57)"
   ]
  },
  {
   "cell_type": "code",
   "execution_count": null,
   "metadata": {},
   "outputs": [],
   "source": [
    "clf = tree.DecisionTreeClassifier()\n",
    "clf = clf.fit(X_train, y_train)\n",
    "clf.score(X_test, y_test)"
   ]
  },
  {
   "cell_type": "markdown",
   "metadata": {},
   "source": [
    "Second run results: clf.score(X_test, y_test) 0.7669565217391304"
   ]
  },
  {
   "cell_type": "markdown",
   "metadata": {},
   "source": [
    "### Score without \"flag\" columns is lower, but still I guess respectable"
   ]
  },
  {
   "cell_type": "markdown",
   "metadata": {},
   "source": [
    "# Random Forest Classifier: Some naive parameter adjustments"
   ]
  },
  {
   "cell_type": "markdown",
   "metadata": {},
   "source": [
    "## Random Forest, all columns, random state = 57, n_estimators = 200"
   ]
  },
  {
   "cell_type": "code",
   "execution_count": null,
   "metadata": {},
   "outputs": [],
   "source": [
    "from sklearn.ensemble import RandomForestClassifier"
   ]
  },
  {
   "cell_type": "code",
   "execution_count": null,
   "metadata": {},
   "outputs": [],
   "source": [
    "target = exoplanets_basic[\"koi_pdisposition_CANDIDATE\"]\n",
    "target_names = [\"False_positive\", \"Candidate\"]\n",
    "data = exoplanets_basic.drop([\"koi_pdisposition_CANDIDATE\", \"kepid\"], axis=1)\n",
    "feature_names = data.columns"
   ]
  },
  {
   "cell_type": "code",
   "execution_count": null,
   "metadata": {},
   "outputs": [],
   "source": [
    "X_train, X_test, y_train, y_test = train_test_split(data, target, random_state=57)"
   ]
  },
  {
   "cell_type": "code",
   "execution_count": null,
   "metadata": {},
   "outputs": [],
   "source": [
    "# Create a random forest classifier\n",
    "rf = RandomForestClassifier(n_estimators=200)\n",
    "rf = rf.fit(X_train, y_train)\n",
    "rf.score(X_test, y_test)"
   ]
  },
  {
   "cell_type": "code",
   "execution_count": null,
   "metadata": {},
   "outputs": [],
   "source": [
    "# Examine feature importances\n",
    "sorted(zip(rf.feature_importances_, feature_names), reverse=True)"
   ]
  },
  {
   "cell_type": "markdown",
   "metadata": {},
   "source": [
    "Third run results: rf.score(X_test, y_test) 0.9904347826086957\n",
    "    \n",
    "[(0.22733560271085565, 'flag_not_transit_like'),\n",
    " (0.19420355973907696, 'flag_centroid_offset'),\n",
    " (0.1440095276751463, 'flag_stellar_eclipse'),\n",
    " (0.10109978958257873, 'planet_radius'),\n",
    " (0.07024011822169293, 'flag_ephemeris match'),\n",
    " (0.044640688652287444, 'stellar_flux_loss_at_trans_min'),\n",
    " (0.03311771350470804, 'orbital_period'),\n",
    " (0.031480649395637335, 'trans_sig_to_noise'),\n",
    " (0.030972109742308376, 'insolation_flux'),\n",
    " (0.029535382736840466, 'approx_planet_temp'),\n",
    " (0.020736500860786416, 'star_planet_dist_at_conj'),\n",
    " (0.018509642109181546, 'trans_duration'),\n",
    " (0.013508461271531618, 'time_first_trans_detected'),\n",
    " (0.008068372003769954, 'stellar_eff_temp'),\n",
    " (0.007187249648553146, 'stellar_photosph_rad'),\n",
    " (0.00658100063113589, 'sky_location_right_asc'),\n",
    " (0.006470822163761753, 'stellar_surf_gravity'),\n",
    " (0.006287781229770447, 'stellar_magnitude'),\n",
    " (0.006015028120377005, 'sky_location_declination')]"
   ]
  },
  {
   "cell_type": "markdown",
   "metadata": {},
   "source": [
    "### Excellent match to Kepler classification - but note 4 of the top 5 predictors are \"flag\" columns"
   ]
  },
  {
   "cell_type": "markdown",
   "metadata": {},
   "source": [
    "## Random forest with \"flag\" variables removed; random state=57"
   ]
  },
  {
   "cell_type": "code",
   "execution_count": null,
   "metadata": {},
   "outputs": [],
   "source": [
    "data = data_deflag.drop([\"koi_pdisposition_CANDIDATE\"], axis=1)\n",
    "feature_names = data.columns\n",
    "target = data_deflag[\"koi_pdisposition_CANDIDATE\"]\n",
    "target_names = [\"False_positive\", \"Candidate\"]"
   ]
  },
  {
   "cell_type": "code",
   "execution_count": null,
   "metadata": {},
   "outputs": [],
   "source": [
    "#Keep same random state as above\n",
    "X_train, X_test, y_train, y_test = train_test_split(data_deflag, target, random_state=57)"
   ]
  },
  {
   "cell_type": "code",
   "execution_count": null,
   "metadata": {},
   "outputs": [],
   "source": [
    "rf = RandomForestClassifier(n_estimators=200)\n",
    "rf = rf.fit(X_train, y_train)\n",
    "rf.score(X_test, y_test)"
   ]
  },
  {
   "cell_type": "code",
   "execution_count": null,
   "metadata": {},
   "outputs": [],
   "source": [
    "# Examine feature importances\n",
    "sorted(zip(rf.feature_importances_, feature_names), reverse=True)"
   ]
  },
  {
   "cell_type": "markdown",
   "metadata": {},
   "source": [
    "Fourth run results:\n",
    "rf.score(X_test, y_test)  1.0\n",
    "\n",
    "[(0.0756992214210558, 'planet_radius'),\n",
    " (0.02594718491892835, 'stellar_flux_loss_at_trans_min'),\n",
    " (0.025467720100393297, 'insolation_flux'),\n",
    " (0.022833793544298753, 'star_planet_dist_at_conj'),\n",
    " (0.02201414443349766, 'orbital_period'),\n",
    " (0.020332680056512346, 'approx_planet_temp'),\n",
    " (0.019891447901408545, 'trans_sig_to_noise'),\n",
    " (0.012684390468460921, 'trans_duration'),\n",
    " (0.007709256710770052, 'time_first_trans_detected'),\n",
    " (0.0032457954749037054, 'stellar_eff_temp'),\n",
    " (0.002960467272649715, 'stellar_photosph_rad'),\n",
    " (0.002777782158230879, 'sky_location_right_asc'),\n",
    " (0.002364284916553437, 'stellar_surf_gravity'),\n",
    " (0.0018585959312780007, 'sky_location_declination'),\n",
    " (0.001716789180097814, 'stellar_magnitude')]"
   ]
  },
  {
   "cell_type": "markdown",
   "metadata": {},
   "source": [
    "### Even better match (at least in this particular run) when flag variables removed"
   ]
  },
  {
   "cell_type": "markdown",
   "metadata": {},
   "source": [
    "## Random forest, all columns; random state=57; n_estimators=50"
   ]
  },
  {
   "cell_type": "code",
   "execution_count": null,
   "metadata": {},
   "outputs": [],
   "source": [
    "target = exoplanets_basic[\"koi_pdisposition_CANDIDATE\"]\n",
    "target_names = [\"False_positive\", \"Candidate\"]\n",
    "data = exoplanets_basic.drop([\"koi_pdisposition_CANDIDATE\", \"kepid\"], axis=1)\n",
    "feature_names = data.columns"
   ]
  },
  {
   "cell_type": "code",
   "execution_count": null,
   "metadata": {},
   "outputs": [],
   "source": [
    "X_train, X_test, y_train, y_test = train_test_split(data, target, random_state=57)"
   ]
  },
  {
   "cell_type": "code",
   "execution_count": null,
   "metadata": {},
   "outputs": [],
   "source": [
    "# Create a random forest classifier\n",
    "rf = RandomForestClassifier(n_estimators=50)\n",
    "rf = rf.fit(X_train, y_train)\n",
    "rf.score(X_test, y_test)"
   ]
  },
  {
   "cell_type": "code",
   "execution_count": null,
   "metadata": {},
   "outputs": [],
   "source": [
    "# Examine feature importances\n",
    "sorted(zip(rf.feature_importances_, feature_names), reverse=True)"
   ]
  },
  {
   "cell_type": "markdown",
   "metadata": {},
   "source": [
    "Fifth run results:\n",
    "\n",
    "rf.score(X_test, y_test) 0.9895652173913043\n",
    "\n",
    "[(0.22478679101692392, 'flag_not_transit_like'),\n",
    " (0.18334698737771735, 'flag_centroid_offset'),\n",
    " (0.15177305910682304, 'flag_stellar_eclipse'),\n",
    " (0.0820154292443887, 'planet_radius'),\n",
    " (0.07045560645341226, 'flag_ephemeris match'),\n",
    " (0.05070168167163782, 'stellar_flux_loss_at_trans_min'),\n",
    " (0.04053729942631173, 'orbital_period'),\n",
    " (0.03542118416488744, 'approx_planet_temp'),\n",
    " (0.031646608026528, 'trans_sig_to_noise'),\n",
    " (0.027659473609593074, 'star_planet_dist_at_conj'),\n",
    " (0.02660825118820068, 'insolation_flux'),\n",
    " (0.018389226884730783, 'trans_duration'),\n",
    " (0.01320545764939473, 'time_first_trans_detected'),\n",
    " (0.008415441461114706, 'stellar_eff_temp'),\n",
    " (0.008244441513973305, 'stellar_photosph_rad'),\n",
    " (0.007365022806077216, 'stellar_surf_gravity'),\n",
    " (0.007039589664750343, 'stellar_magnitude'),\n",
    " (0.006670640694098431, 'sky_location_right_asc'),\n",
    " (0.005717808039436437, 'sky_location_declination')]\n"
   ]
  },
  {
   "cell_type": "markdown",
   "metadata": {},
   "source": [
    "### Very slightly lower score than with 200 estimators; relative factor importances quite similar"
   ]
  },
  {
   "cell_type": "markdown",
   "metadata": {},
   "source": [
    "## Random forest , all columns; random state=57; n_estimators=10"
   ]
  },
  {
   "cell_type": "code",
   "execution_count": null,
   "metadata": {},
   "outputs": [],
   "source": [
    "target = exoplanets_basic[\"koi_pdisposition_CANDIDATE\"]\n",
    "target_names = [\"False_positive\", \"Candidate\"]\n",
    "data = exoplanets_basic.drop([\"koi_pdisposition_CANDIDATE\", \"kepid\"], axis=1)\n",
    "feature_names = data.columns"
   ]
  },
  {
   "cell_type": "code",
   "execution_count": null,
   "metadata": {},
   "outputs": [],
   "source": [
    "X_train, X_test, y_train, y_test = train_test_split(data, target, random_state=57)"
   ]
  },
  {
   "cell_type": "code",
   "execution_count": null,
   "metadata": {},
   "outputs": [],
   "source": [
    "# Create a random forest classifier\n",
    "rf = RandomForestClassifier(n_estimators=50)\n",
    "rf = rf.fit(X_train, y_train)\n",
    "rf.score(X_test, y_test)"
   ]
  },
  {
   "cell_type": "code",
   "execution_count": null,
   "metadata": {},
   "outputs": [],
   "source": [
    "# Examine feature importances\n",
    "sorted(zip(rf.feature_importances_, feature_names), reverse=True)"
   ]
  },
  {
   "cell_type": "markdown",
   "metadata": {},
   "source": [
    "Sixth run result:\n",
    "\n",
    "rf.score(X_test, y_test) 0.9891304347826086\n",
    "\n",
    "[(0.2259593552429587, 'flag_not_transit_like'),\n",
    " (0.20216741873290553, 'flag_centroid_offset'),\n",
    " (0.1376671830280171, 'flag_stellar_eclipse'),\n",
    " (0.12487004832135692, 'planet_radius'),\n",
    " (0.07077921338368869, 'flag_ephemeris match'),\n",
    " (0.03676421924755866, 'stellar_flux_loss_at_trans_min'),\n",
    " (0.031613473252989584, 'orbital_period'),\n",
    " (0.029247794125857682, 'insolation_flux'),\n",
    " (0.027746302416463732, 'approx_planet_temp'),\n",
    " (0.027118406419649455, 'trans_sig_to_noise'),\n",
    " (0.017319409129850877, 'trans_duration'),\n",
    " (0.016328628721901377, 'star_planet_dist_at_conj'),\n",
    " (0.013032099322464014, 'time_first_trans_detected'),\n",
    " (0.007692441245159498, 'stellar_eff_temp'),\n",
    " (0.007656213060912029, 'stellar_surf_gravity'),\n",
    " (0.006604557561888076, 'stellar_photosph_rad'),\n",
    " (0.006000789138146452, 'sky_location_right_asc'),\n",
    " (0.005907446209645676, 'sky_location_declination'),\n",
    " (0.005525001438586003, 'stellar_magnitude')]\n"
   ]
  },
  {
   "cell_type": "markdown",
   "metadata": {},
   "source": [
    "### Very slightly lower score than with 200 estimators; relative factor importances quite similar"
   ]
  },
  {
   "cell_type": "markdown",
   "metadata": {},
   "source": [
    "## Random Forest, all columns, random state = 312, n_estimators = 200"
   ]
  },
  {
   "cell_type": "code",
   "execution_count": null,
   "metadata": {},
   "outputs": [],
   "source": [
    "target = exoplanets_basic[\"koi_pdisposition_CANDIDATE\"]\n",
    "target_names = [\"False_positive\", \"Candidate\"]\n",
    "data = exoplanets_basic.drop([\"koi_pdisposition_CANDIDATE\", \"kepid\"], axis=1)\n",
    "feature_names = data.columns"
   ]
  },
  {
   "cell_type": "code",
   "execution_count": null,
   "metadata": {},
   "outputs": [],
   "source": [
    "X_train, X_test, y_train, y_test = train_test_split(data, target, random_state=312)"
   ]
  },
  {
   "cell_type": "code",
   "execution_count": null,
   "metadata": {},
   "outputs": [],
   "source": [
    "# Create a random forest classifier\n",
    "rf = RandomForestClassifier(n_estimators=200)\n",
    "rf = rf.fit(X_train, y_train)\n",
    "rf.score(X_test, y_test)"
   ]
  },
  {
   "cell_type": "code",
   "execution_count": null,
   "metadata": {},
   "outputs": [],
   "source": [
    "# Examine feature importances\n",
    "sorted(zip(rf.feature_importances_, feature_names), reverse=True)"
   ]
  },
  {
   "cell_type": "markdown",
   "metadata": {},
   "source": [
    "Seventh run results:\n",
    "    \n",
    "rf.score(X_test, y_test) 0.9882608695652174\n",
    "\n",
    "[(0.23798774600917552, 'flag_not_transit_like'),\n",
    " (0.19186263353584754, 'flag_centroid_offset'),\n",
    " (0.16692955018983197, 'flag_stellar_eclipse'),\n",
    " (0.08542584938692699, 'planet_radius'),\n",
    " (0.07186881412337937, 'flag_ephemeris match'),\n",
    " (0.04271948290966886, 'stellar_flux_loss_at_trans_min'),\n",
    " (0.03130938860531501, 'insolation_flux'),\n",
    " (0.029941578261044405, 'trans_sig_to_noise'),\n",
    " (0.029162560264454945, 'orbital_period'),\n",
    " (0.028171703218690346, 'approx_planet_temp'),\n",
    " (0.01932885503213915, 'star_planet_dist_at_conj'),\n",
    " (0.015147970719536408, 'trans_duration'),\n",
    " (0.01031685362043467, 'time_first_trans_detected'),\n",
    " (0.007974241401576123, 'stellar_eff_temp'),\n",
    " (0.007710574883976139, 'stellar_photosph_rad'),\n",
    " (0.006595751769123111, 'stellar_surf_gravity'),\n",
    " (0.0061432410779326515, 'sky_location_right_asc'),\n",
    " (0.005783169289187998, 'stellar_magnitude'),\n",
    " (0.005620035701758849, 'sky_location_declination')]"
   ]
  },
  {
   "cell_type": "markdown",
   "metadata": {},
   "source": [
    "### No major changes with choice of random state"
   ]
  },
  {
   "cell_type": "markdown",
   "metadata": {},
   "source": [
    "# Random Forest Classifier: Additional parameters"
   ]
  },
  {
   "cell_type": "markdown",
   "metadata": {},
   "source": [
    "Not sure how much this matters given the already high scores, but easy enough to test.\n",
    "Some possibly useful choices from scikit-learn.org (based on limited understanding!):\n",
    "\n",
    "criterion{“gini”, “entropy”}, default=”gini”\n",
    "https://towardsdatascience.com/gini-index-vs-information-entropy-7a7e4fed3fcb: :entropy might give sharper delineation\n",
    "\n",
    "\n",
    "max_features{“auto”, “sqrt”, “log2”}, int or float, default=”auto”\n",
    "If “auto”, then max_features=sqrt(n_features).\n",
    "If “log2”, then max_features=log2(n_features).\n",
    ">>If None, then max_features=n_features.\n",
    "Note: the search for a split does not stop until at least one valid partition of the node samples is found\n",
    "Increasing features considered at each step might affect results (and run time of course), assuming not already at max.\n",
    "\n",
    "oob_scorebool, default=False\n",
    "https://towardsdatascience.com/what-is-out-of-bag-oob-score-in-random-forest-a7fa23d710\n",
    "Apparently best for small datasets, which ours is not\n"
   ]
  },
  {
   "cell_type": "markdown",
   "metadata": {},
   "source": [
    "## Random Forest, all columns, random state = 57, n_estimators = 200, criterion = \"entropy\""
   ]
  },
  {
   "cell_type": "code",
   "execution_count": null,
   "metadata": {},
   "outputs": [],
   "source": [
    "target = exoplanets_basic[\"koi_pdisposition_CANDIDATE\"]\n",
    "target_names = [\"False_positive\", \"Candidate\"]\n",
    "data = exoplanets_basic.drop([\"koi_pdisposition_CANDIDATE\", \"kepid\"], axis=1)\n",
    "feature_names = data.columns"
   ]
  },
  {
   "cell_type": "code",
   "execution_count": null,
   "metadata": {},
   "outputs": [],
   "source": [
    "X_train, X_test, y_train, y_test = train_test_split(data, target, random_state=57)"
   ]
  },
  {
   "cell_type": "code",
   "execution_count": null,
   "metadata": {},
   "outputs": [],
   "source": [
    "# Create a random forest classifier\n",
    "rf = RandomForestClassifier(n_estimators=200, criterion='entropy')\n",
    "rf = rf.fit(X_train, y_train)\n",
    "rf.score(X_test, y_test)"
   ]
  },
  {
   "cell_type": "code",
   "execution_count": null,
   "metadata": {},
   "outputs": [],
   "source": [
    "# Examine feature importances\n",
    "sorted(zip(rf.feature_importances_, feature_names), reverse=True)"
   ]
  },
  {
   "cell_type": "markdown",
   "metadata": {},
   "source": [
    "Eighth run result:\n",
    "    \n",
    "rf.score(X_test, y_test) 0.9904347826086957\n",
    "\n",
    "[(0.22605002898133872, 'flag_not_transit_like'),\n",
    " (0.19519889356462308, 'flag_centroid_offset'),\n",
    " (0.15197875446292186, 'flag_stellar_eclipse'),\n",
    " (0.0838030500923313, 'planet_radius'),\n",
    " (0.07276204231577676, 'flag_ephemeris match'),\n",
    " (0.04219325150244801, 'stellar_flux_loss_at_trans_min'),\n",
    " (0.03658629069697878, 'trans_sig_to_noise'),\n",
    " (0.03450634261202376, 'orbital_period'),\n",
    " (0.029405794268847978, 'insolation_flux'),\n",
    " (0.025164503624640545, 'approx_planet_temp'),\n",
    " (0.020040278368036304, 'star_planet_dist_at_conj'),\n",
    " (0.018600221393501714, 'trans_duration'),\n",
    " (0.013328520799608404, 'time_first_trans_detected'),\n",
    " (0.009693009092842604, 'stellar_photosph_rad'),\n",
    " (0.009514958668370243, 'stellar_eff_temp'),\n",
    " (0.008082442537119995, 'stellar_surf_gravity'),\n",
    " (0.007957083474579353, 'sky_location_right_asc'),\n",
    " (0.007719477673848345, 'stellar_magnitude'),\n",
    " (0.007415055870162336, 'sky_location_declination')]"
   ]
  },
  {
   "cell_type": "markdown",
   "metadata": {},
   "source": [
    "High score "
   ]
  },
  {
   "cell_type": "markdown",
   "metadata": {},
   "source": [
    "## Random Forest, all columns, random state = 57, n_estimators = 200, max_features='auto'"
   ]
  },
  {
   "cell_type": "code",
   "execution_count": null,
   "metadata": {},
   "outputs": [],
   "source": [
    "target = exoplanets_basic[\"koi_pdisposition_CANDIDATE\"]\n",
    "target_names = [\"False_positive\", \"Candidate\"]\n",
    "data = exoplanets_basic.drop([\"koi_pdisposition_CANDIDATE\", \"kepid\"], axis=1)\n",
    "feature_names = data.columns"
   ]
  },
  {
   "cell_type": "code",
   "execution_count": null,
   "metadata": {},
   "outputs": [],
   "source": [
    "X_train, X_test, y_train, y_test = train_test_split(data, target, random_state=57)"
   ]
  },
  {
   "cell_type": "code",
   "execution_count": null,
   "metadata": {},
   "outputs": [],
   "source": [
    "# Create a random forest classifier\n",
    "rf = RandomForestClassifier(n_estimators=200, max_features='auto')\n",
    "rf = rf.fit(X_train, y_train)\n",
    "rf.score(X_test, y_test)"
   ]
  },
  {
   "cell_type": "code",
   "execution_count": null,
   "metadata": {},
   "outputs": [],
   "source": [
    "# Examine feature importances\n",
    "sorted(zip(rf.feature_importances_, feature_names), reverse=True)"
   ]
  },
  {
   "cell_type": "markdown",
   "metadata": {},
   "source": [
    "Ninth run results\n",
    "\n",
    "rf.score(X_test, y_test) 0.9904347826086957\n",
    "\n",
    "[(0.22872426067052315, 'flag_not_transit_like'),\n",
    " (0.19127100946869177, 'flag_centroid_offset'),\n",
    " (0.16299930629129977, 'flag_stellar_eclipse'),\n",
    " (0.08718918447587949, 'planet_radius'),\n",
    " (0.07243404191102386, 'flag_ephemeris match'),\n",
    " (0.0373124679610056, 'trans_sig_to_noise'),\n",
    " (0.03577251639510632, 'stellar_flux_loss_at_trans_min'),\n",
    " (0.035374110557582196, 'orbital_period'),\n",
    " (0.02977581241967809, 'approx_planet_temp'),\n",
    " (0.026619083006408518, 'insolation_flux'),\n",
    " (0.021057379335761735, 'star_planet_dist_at_conj'),\n",
    " (0.01629170482114803, 'trans_duration'),\n",
    " (0.013611690283884705, 'time_first_trans_detected'),\n",
    " (0.008348201095845754, 'stellar_eff_temp'),\n",
    " (0.007934720066254973, 'stellar_photosph_rad'),\n",
    " (0.006717208390302393, 'stellar_surf_gravity'),\n",
    " (0.006539054804130948, 'sky_location_right_asc'),\n",
    " (0.006139290905798041, 'stellar_magnitude'),\n",
    " (0.005888957139674693, 'sky_location_declination')]"
   ]
  },
  {
   "cell_type": "markdown",
   "metadata": {},
   "source": [
    "High score"
   ]
  },
  {
   "cell_type": "markdown",
   "metadata": {},
   "source": [
    "## Random forest with \"flag\" variables removed; random state = 57, n_estimators = 200, criterion = \"entropy\""
   ]
  },
  {
   "cell_type": "code",
   "execution_count": null,
   "metadata": {},
   "outputs": [],
   "source": [
    "data = data_deflag.drop([\"koi_pdisposition_CANDIDATE\"], axis=1)\n",
    "feature_names = data.columns\n",
    "target = data_deflag[\"koi_pdisposition_CANDIDATE\"]\n",
    "target_names = [\"False_positive\", \"Candidate\"]"
   ]
  },
  {
   "cell_type": "code",
   "execution_count": null,
   "metadata": {},
   "outputs": [],
   "source": [
    "X_train, X_test, y_train, y_test = train_test_split(data, target, random_state=57)"
   ]
  },
  {
   "cell_type": "code",
   "execution_count": null,
   "metadata": {},
   "outputs": [],
   "source": [
    "# Create a random forest classifier\n",
    "rf = RandomForestClassifier(n_estimators=200, criterion='entropy')\n",
    "rf = rf.fit(X_train, y_train)\n",
    "rf.score(X_test, y_test)"
   ]
  },
  {
   "cell_type": "code",
   "execution_count": null,
   "metadata": {},
   "outputs": [],
   "source": [
    "# Examine feature importances\n",
    "sorted(zip(rf.feature_importances_, feature_names), reverse=True)"
   ]
  },
  {
   "cell_type": "markdown",
   "metadata": {},
   "source": [
    "Tenth run results:\n",
    "    \n",
    "rf.score(X_test, y_test) 0.8386956521739131\n",
    "\n",
    "[(0.1379310462689551, 'planet_radius'),\n",
    " (0.09258523408807015, 'orbital_period'),\n",
    " (0.08848849033703969, 'stellar_flux_loss_at_trans_min'),\n",
    " (0.08450236297953793, 'trans_sig_to_noise'),\n",
    " (0.07993781905557479, 'trans_duration'),\n",
    " (0.07773010302285813, 'star_planet_dist_at_conj'),\n",
    " (0.06802682933552859, 'insolation_flux'),\n",
    " (0.06287145573790465, 'approx_planet_temp'),\n",
    " (0.0522589495016858, 'time_first_trans_detected'),\n",
    " (0.04521993048295201, 'sky_location_right_asc'),\n",
    " (0.043680510036280915, 'stellar_eff_temp'),\n",
    " (0.0434146383951555, 'stellar_surf_gravity'),\n",
    " (0.043329969186600946, 'stellar_photosph_rad'),\n",
    " (0.04102089876256105, 'sky_location_declination'),\n",
    " (0.03900176280929468, 'stellar_magnitude')]\n"
   ]
  },
  {
   "cell_type": "markdown",
   "metadata": {},
   "source": [
    "Lower score"
   ]
  },
  {
   "cell_type": "markdown",
   "metadata": {},
   "source": [
    "## Random forest with \"flag\" variables removed; random state = 57, n_estimators = 200, max_features='auto'"
   ]
  },
  {
   "cell_type": "code",
   "execution_count": null,
   "metadata": {},
   "outputs": [],
   "source": [
    "data = data_deflag.drop([\"koi_pdisposition_CANDIDATE\"], axis=1)\n",
    "feature_names = data.columns\n",
    "target = data_deflag[\"koi_pdisposition_CANDIDATE\"]\n",
    "target_names = [\"False_positive\", \"Candidate\"]"
   ]
  },
  {
   "cell_type": "code",
   "execution_count": null,
   "metadata": {},
   "outputs": [],
   "source": [
    "X_train, X_test, y_train, y_test = train_test_split(data, target, random_state=57)"
   ]
  },
  {
   "cell_type": "code",
   "execution_count": null,
   "metadata": {},
   "outputs": [],
   "source": [
    "# Create a random forest classifier\n",
    "rf = RandomForestClassifier(n_estimators=200, max_features='auto')\n",
    "rf = rf.fit(X_train, y_train)\n",
    "rf.score(X_test, y_test)"
   ]
  },
  {
   "cell_type": "code",
   "execution_count": null,
   "metadata": {},
   "outputs": [],
   "source": [
    "# Examine feature importances\n",
    "sorted(zip(rf.feature_importances_, feature_names), reverse=True)"
   ]
  },
  {
   "cell_type": "markdown",
   "metadata": {},
   "source": [
    "Eleventh run result:\n",
    "    \n",
    "rf.score(X_test, y_test) 0.8369565217391305\n",
    "\n",
    "[(0.14776291108077555, 'planet_radius'),\n",
    " (0.09561514385817545, 'orbital_period'),\n",
    " (0.08686027002282865, 'trans_sig_to_noise'),\n",
    " (0.08370918639742753, 'star_planet_dist_at_conj'),\n",
    " (0.0809737656439492, 'stellar_flux_loss_at_trans_min'),\n",
    " (0.0768699129102505, 'trans_duration'),\n",
    " (0.07343482879377032, 'approx_planet_temp'),\n",
    " (0.07113635596863883, 'insolation_flux'),\n",
    " (0.05086760639057528, 'time_first_trans_detected'),\n",
    " (0.041273752166773474, 'stellar_eff_temp'),\n",
    " (0.041271588512042455, 'sky_location_right_asc'),\n",
    " (0.039728371705770225, 'stellar_photosph_rad'),\n",
    " (0.038560686609861984, 'stellar_surf_gravity'),\n",
    " (0.036885649669834576, 'sky_location_declination'),\n",
    " (0.035049970269326075, 'stellar_magnitude')]"
   ]
  },
  {
   "cell_type": "markdown",
   "metadata": {},
   "source": [
    "Lower score"
   ]
  },
  {
   "cell_type": "code",
   "execution_count": null,
   "metadata": {},
   "outputs": [],
   "source": []
  }
 ],
 "metadata": {
  "kernelspec": {
   "display_name": "Python 3",
   "language": "python",
   "name": "python3"
  },
  "language_info": {
   "codemirror_mode": {
    "name": "ipython",
    "version": 3
   },
   "file_extension": ".py",
   "mimetype": "text/x-python",
   "name": "python",
   "nbconvert_exporter": "python",
   "pygments_lexer": "ipython3",
   "version": "3.6.10"
  }
 },
 "nbformat": 4,
 "nbformat_minor": 4
}
